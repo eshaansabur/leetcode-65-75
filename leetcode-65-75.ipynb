{
 "cells": [
  {
   "cell_type": "code",
   "execution_count": 17,
   "id": "6df0fccd-8bf8-4a72-8fec-6db2c7953f82",
   "metadata": {},
   "outputs": [
    {
     "name": "stdout",
     "output_type": "stream",
     "text": [
      "[1]\n",
      "[2]\n"
     ]
    },
    {
     "data": {
      "text/plain": [
       "1"
      ]
     },
     "execution_count": 17,
     "metadata": {},
     "output_type": "execute_result"
    }
   ],
   "source": [
    "n = 2\n",
    "trust = [[1,2]]\n",
    "def findJudge(n, trust):\n",
    "    all_people= []\n",
    "    for i in trust:\n",
    "        for j in \n",
    "\n",
    "findJudge(n, trust)"
   ]
  },
  {
   "cell_type": "code",
   "execution_count": 24,
   "id": "8e028c43-2ada-424d-8437-10c6cbceb131",
   "metadata": {},
   "outputs": [
    {
     "name": "stdout",
     "output_type": "stream",
     "text": [
      "inf\n"
     ]
    },
    {
     "data": {
      "text/plain": [
       "True"
      ]
     },
     "execution_count": 24,
     "metadata": {},
     "output_type": "execute_result"
    }
   ],
   "source": [
    "s= \"Infinity\"\n",
    "def isNumber(s):\n",
    "    if s ==\"inf\" or s ==\"-inf\" or s ==\"+inf\" or s==\"Infinity\" or s==\"-Infinity\" or s==\"+Infinity\" or s==\"nan\":\n",
    "        s=\"aa\"\n",
    "    try:\n",
    "        s= float(s)\n",
    "        print(s)\n",
    "        return True\n",
    "    except Exception:\n",
    "        return False\n",
    "\n",
    "isNumber(s)\n"
   ]
  },
  {
   "cell_type": "code",
   "execution_count": 25,
   "id": "370caa0d-1584-40af-b066-c35004a48977",
   "metadata": {},
   "outputs": [
    {
     "name": "stdout",
     "output_type": "stream",
     "text": [
      "[0, 0, 1, 1, 2, 2]\n"
     ]
    }
   ],
   "source": [
    "nums = [2,0,2,1,1,0]\n",
    "def sortColors(nums):\n",
    "    for i in range(0, len(nums)):\n",
    "        for j in range(i+1, len(nums)):\n",
    "            if nums[i]> nums[j]:\n",
    "                nums[i], nums[j]= nums[j], nums[i]\n",
    "    print(nums)\n",
    "\n",
    "sortColors(nums)"
   ]
  },
  {
   "cell_type": "code",
   "execution_count": 12,
   "id": "e8630300-346f-4020-932d-3e5436cb2e15",
   "metadata": {},
   "outputs": [
    {
     "name": "stdout",
     "output_type": "stream",
     "text": [
      "D 1.0 1.0\n"
     ]
    },
    {
     "data": {
      "text/plain": [
       "False"
      ]
     },
     "execution_count": 12,
     "metadata": {},
     "output_type": "execute_result"
    }
   ],
   "source": [
    "p1 = [0, 0]\n",
    "p2 = [1, 1]\n",
    "p3 = [1, 0]\n",
    "p4 = [0,1]\n",
    "def validSquare(p1, p2, p3, p4):\n",
    "    d_p1p3=0\n",
    "    d_p2p4=0\n",
    "    m1_p1p3=0\n",
    "    m2_p2p4= 0\n",
    "    if len(p1)==2 and len(p2)==2 and len(p3)==2 and len(p4)==2:\n",
    "        try:\n",
    "            d_p1p3= (((p3[0]- p1[0]) **2) + ((p3[1]- p1[1]) ** 2)) ** 0.5\n",
    "            d_p2p4= (((p4[0]- p2[0]) **2) + ((p4[1]- p2[1]) ** 2)) ** 0.5\n",
    "            d_p1p3= round(d_p1p3, 2)\n",
    "            d_p2p4= round(d_p2p4, 2)\n",
    "            print(\"D\", d_p1p3, d_p2p4)\n",
    "        except Exception:\n",
    "            d_p1p3=0\n",
    "            d_p2p4=0\n",
    "        try:\n",
    "            m1_p1p3= (p3[1]- p1[1])/ (p3[0]- p1[0])\n",
    "            m2_p2p4= (p4[1]- p2[1])/ (p4[0]- p2[0])\n",
    "            print(\"M\", m1_p1p3, -1/m2_p2p4)\n",
    "        except Exception:\n",
    "            m1_p1p3=0\n",
    "            m2_p2p4=0\n",
    "        try:     \n",
    "            if (d_p1p3== d_p2p4 and m1_p1p2== -1/m2_p2p3):\n",
    "                return True\n",
    "        except Exception:\n",
    "            return False\n",
    "\n",
    "validSquare(p1, p2, p3, p4)"
   ]
  },
  {
   "cell_type": "code",
   "execution_count": null,
   "id": "c4481e8c-ddfb-44e6-bace-a526734d14eb",
   "metadata": {},
   "outputs": [],
   "source": []
  },
  {
   "cell_type": "code",
   "execution_count": null,
   "id": "587f67b6-c5ea-4c76-b2d9-028d5c79ea41",
   "metadata": {},
   "outputs": [],
   "source": []
  }
 ],
 "metadata": {
  "kernelspec": {
   "display_name": "Python 3 (ipykernel)",
   "language": "python",
   "name": "python3"
  },
  "language_info": {
   "codemirror_mode": {
    "name": "ipython",
    "version": 3
   },
   "file_extension": ".py",
   "mimetype": "text/x-python",
   "name": "python",
   "nbconvert_exporter": "python",
   "pygments_lexer": "ipython3",
   "version": "3.11.7"
  }
 },
 "nbformat": 4,
 "nbformat_minor": 5
}
